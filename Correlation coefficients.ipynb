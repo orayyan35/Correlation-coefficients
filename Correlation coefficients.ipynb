{
 "cells": [
  {
   "cell_type": "markdown",
   "metadata": {},
   "source": [
    "# Correlation coefficients\n",
    " "
   ]
  },
  {
   "cell_type": "markdown",
   "metadata": {},
   "source": [
    "Correlation  : is a relationship between two varibles \n"
   ]
  },
  {
   "cell_type": "markdown",
   "metadata": {},
   "source": [
    "correlation cofficient is measure of the strength and the dirction od the linear realtionship between two variable :\n"
   ]
  },
  {
   "cell_type": "markdown",
   "metadata": {},
   "source": [
    "r = n sum x * y -(sum (x))* (sum(y) )/√(n *sum(x)power 2* √(n sum(y power 2 ) - (sum y )power 2 ))"
   ]
  },
  {
   "cell_type": "markdown",
   "metadata": {},
   "source": [
    "the range of the corr coff is -1 to 1 \n"
   ]
  },
  {
   "cell_type": "code",
   "execution_count": 4,
   "metadata": {},
   "outputs": [
    {
     "name": "stdout",
     "output_type": "stream",
     "text": [
      "Pearson Correlation Coefficient: 0.9863939238321437\n"
     ]
    }
   ],
   "source": [
    "import numpy as np\n",
    "\n",
    "def pearson_correlation_coefficient(x, y):\n",
    "    n = len(x)\n",
    "    \n",
    "    sum_xy = np.sum(x * y)\n",
    "    sum_x = np.sum(x)\n",
    "    sum_y = np.sum(y)\n",
    "    sum_x_squared = np.sum(x**2)\n",
    "    sum_y_squared = np.sum(y**2)\n",
    "\n",
    "    numerator = n * sum_xy - sum_x * sum_y\n",
    "    denominator = np.sqrt((n * sum_x_squared - sum_x**2) * (n * sum_y_squared - sum_y**2))\n",
    "\n",
    "    r = numerator / denominator\n",
    "    return r\n",
    "\n",
    "x_values = np.array([1, 2, 3, 4, 5])\n",
    "y_values = np.array([-3, -1, 0, 1, 2])\n",
    "\n",
    "correlation_coefficient = pearson_correlation_coefficient(x_values, y_values)\n",
    "print(\"Pearson Correlation Coefficient:\", correlation_coefficient)\n"
   ]
  },
  {
   "cell_type": "markdown",
   "metadata": {},
   "source": [
    "The value of r must be between -1 to 1"
   ]
  },
  {
   "cell_type": "markdown",
   "metadata": {},
   "source": [
    "example 2 : \n"
   ]
  },
  {
   "cell_type": "code",
   "execution_count": 9,
   "metadata": {},
   "outputs": [],
   "source": [
    "x_values = np.array([0, 1, 2, 3, 3 , 5,5,5,6,7,7,10])\n",
    "y_values = np.array([96,85 , 82,74 , 95 , 68 , 76  , 84  , 58 , 65, 75,50])\n"
   ]
  },
  {
   "cell_type": "code",
   "execution_count": 10,
   "metadata": {},
   "outputs": [
    {
     "data": {
      "text/plain": [
       "12"
      ]
     },
     "execution_count": 10,
     "metadata": {},
     "output_type": "execute_result"
    }
   ],
   "source": [
    "len (y_values)\n"
   ]
  },
  {
   "cell_type": "code",
   "execution_count": 11,
   "metadata": {},
   "outputs": [
    {
     "name": "stdout",
     "output_type": "stream",
     "text": [
      "Pearson Correlation Coefficient: -0.8312962309074752\n"
     ]
    }
   ],
   "source": [
    "\n",
    "correlation_coefficient = pearson_correlation_coefficient(x_values, y_values)\n",
    "print(\"Pearson Correlation Coefficient:\", correlation_coefficient)\n"
   ]
  },
  {
   "cell_type": "code",
   "execution_count": 12,
   "metadata": {},
   "outputs": [
    {
     "data": {
      "image/png": "[encoded data removed]",
      "text/plain": [
       "<Figure size 640x480 with 1 Axes>"
      ]
     },
     "metadata": {},
     "output_type": "display_data"
    }
   ],
   "source": [
    "import matplotlib.pyplot as plt\n",
    "\n",
    "plt.scatter(x= x_values, y= y_values)\n",
    "plt.xlabel(\"Hours of Study\")\n",
    "plt.ylabel(\"Grade (%)\")\n",
    "plt.title(\"Scatter Plot of Study Hours vs Grade\")\n",
    "plt.show()"
   ]
  },
  {
   "cell_type": "markdown",
   "metadata": {},
   "source": [
    "there is strong negative linear corr \n"
   ]
  },
  {
   "cell_type": "code",
   "execution_count": 15,
   "metadata": {},
   "outputs": [
    {
     "name": "stdout",
     "output_type": "stream",
     "text": [
      "a. Confidence Interval for Proportion of IT Girls: (0.5286298456170605, 0.6153701543829394)\n",
      "b. Confidence Interval for Total Sample Size: (499.957, 500.043)\n",
      "c. Confidence Interval for Proportion of IT Girls in the Population: (0.5286298456170605, 0.6153701543829394)\n",
      "d. Confidence Interval for Proportion of IT Girls in the Population: (0.5286298456170605, 0.6153701543829394)\n",
      "e. Confidence Interval for Proportion of IT Girls: (0.5286298456170605, 0.6153701543829394)\n"
     ]
    }
   ],
   "source": [
    "import numpy as np\n",
    "\n",
    "# Given data\n",
    "total_sample_size = 500\n",
    "number_of_girls = 286\n",
    "confidence_level = 0.97\n",
    "critical_value = 1.96  # Corresponding to the 97% confidence level\n",
    "\n",
    "# Step 1: Calculate sample proportion\n",
    "sample_proportion = number_of_girls / total_sample_size\n",
    "\n",
    "# Step 2: Calculate standard error\n",
    "standard_error = np.sqrt((sample_proportion * (1 - sample_proportion)) / total_sample_size)\n",
    "\n",
    "# Step 3: Calculate margin of error\n",
    "margin_of_error = critical_value * standard_error\n",
    "\n",
    "# Step 4: Calculate confidence interval\n",
    "confidence_interval = (sample_proportion - margin_of_error, sample_proportion + margin_of_error)\n",
    "\n",
    "# Display the results\n",
    "print(f\"a. Confidence Interval for Proportion of IT Girls: {confidence_interval}\")\n",
    "print(f\"b. Confidence Interval for Total Sample Size: ({total_sample_size - margin_of_error:.3f}, {total_sample_size + margin_of_error:.3f})\")\n",
    "print(f\"c. Confidence Interval for Proportion of IT Girls in the Population: {confidence_interval}\")\n",
    "print(f\"d. Confidence Interval for Proportion of IT Girls in the Population: {confidence_interval}\")\n",
    "print(f\"e. Confidence Interval for Proportion of IT Girls: {confidence_interval}\")\n"
   ]
  },
  {
   "cell_type": "code",
   "execution_count": null,
   "metadata": {},
   "outputs": [],
   "source": []
  }
 ],
 "metadata": {
  "kernelspec": {
   "display_name": "base",
   "language": "python",
   "name": "python3"
  },
  "language_info": {
   "codemirror_mode": {
    "name": "ipython",
    "version": 3
   },
   "file_extension": ".py",
   "mimetype": "text/x-python",
   "name": "python",
   "nbconvert_exporter": "python",
   "pygments_lexer": "ipython3",
   "version": "3.11.4"
  },
  "orig_nbformat": 4
 },
 "nbformat": 4,
 "nbformat_minor": 2
}
